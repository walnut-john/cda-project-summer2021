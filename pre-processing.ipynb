{
 "cells": [
  {
   "cell_type": "markdown",
   "metadata": {},
   "source": [
    "## Pre-processing\n",
    "1. Data Prep for GroundTruth.csv (read_labels)\n",
    "    - Read in CSV File\n",
    "    - Reverse One-Hot Encoding\n",
    "    - Add .jpg for Image files\n",
    "2. Split Data into Test/Train/Validate (split_data)\n",
    "    - 80% train, 10% test, 10% validate\n",
    "3. Balance Classes in Datasets (get_balanced_df)\n",
    "    - Sample data based on Class - Stratification\n",
    "    - Add weights for Classes if unequal\n",
    "    - https://machinelearningmastery.com/data-sampling-methods-for-imbalanced-classification/ \n",
    "    - https://www.analyticsvidhya.com/blog/2020/10/improve-class-imbalance-class-weights/\n",
    "4. Read in Images\n",
    "    - "
   ]
  },
  {
   "cell_type": "code",
   "execution_count": 15,
   "metadata": {},
   "outputs": [],
   "source": [
    "import pandas as pd\n",
    "import numpy as np\n",
    "import matplotlib.pyplot as plt\n",
    "from matplotlib.pyplot import imshow\n",
    "\n",
    "from sklearn.model_selection import train_test_split\n",
    "\n",
    "import warnings\n",
    "warnings.filterwarnings('ignore')"
   ]
  },
  {
   "cell_type": "code",
   "execution_count": 16,
   "metadata": {},
   "outputs": [
    {
     "name": "stdout",
     "output_type": "stream",
     "text": [
      "              image cancer_type\n",
      "0  ISIC_0024306.jpg          NV\n",
      "1  ISIC_0024307.jpg          NV\n",
      "2  ISIC_0024308.jpg          NV\n",
      "3  ISIC_0024309.jpg          NV\n",
      "4  ISIC_0024310.jpg         MEL\n"
     ]
    }
   ],
   "source": [
    "def read_labels(data_path = 'data/archive/'):\n",
    "    \"\"\"Function to read in the .csv file 'GroundTruth' and reverse the one-hot encoding that was applied.\n",
    "    (Should be better for classification algorithms?)\n",
    "    Args:\n",
    "        data_path (str, optional): Path of .csv file. Defaults to 'data/archive/'.\n",
    "    Returns:\n",
    "        Pandas df: two column pandas dataframe - image name and cancer type\n",
    "    \"\"\"\n",
    "\n",
    "    # read in csv file\n",
    "    df = pd.read_csv(f'{data_path}GroundTruth.csv')\n",
    "    df['image'] = df['image'] + '.jpg' # adds filetype to image column\n",
    "\n",
    "    # get list of categories\n",
    "    categories = df.columns.values.tolist()\n",
    "    categories.remove('image')\n",
    "\n",
    "    # reverse the one-hot encoding\n",
    "    new_col = df[categories].idxmax(1)\n",
    "    new_col = pd.DataFrame(new_col, columns = ['cancer_type'])\n",
    "    df = pd.concat([df['image'], new_col], axis = 1)\n",
    "    \n",
    "    return df\n",
    "\n",
    "\n",
    "df = read_labels('data/')\n",
    "print(df.head())"
   ]
  },
  {
   "cell_type": "code",
   "execution_count": 17,
   "metadata": {},
   "outputs": [
    {
     "name": "stdout",
     "output_type": "stream",
     "text": [
      "Train Size:  8012\n",
      "Test Size:  1001\n",
      "Validate Size:  1002\n"
     ]
    }
   ],
   "source": [
    "def split_data(df, train_pct=0.80):\n",
    "    \"\"\"Function to split data into train, test, and validate datasets.\n",
    "    Args:\n",
    "        df (DataFrame, required): Data to split\n",
    "        train_pct (float, optional): Percentage of train split\n",
    "    Returns:\n",
    "        3 DataFrames: randomly sampled data, size based on percentage \n",
    "    \"\"\" \n",
    "    train, remaining = train_test_split(df, train_size=train_pct, shuffle=True, random_state=1)\n",
    "    test, validate = train_test_split(remaining, train_size=0.50, shuffle=True, random_state=1)\n",
    "    \n",
    "    print('Train Size: ', len(train.index))\n",
    "    print('Test Size: ', len(test.index))\n",
    "    print('Validate Size: ', len(validate.index))\n",
    "    \n",
    "    return train, test, validate\n",
    "\n",
    "\n",
    "# 80% train, 10% test, 10% validate\n",
    "train_df, test_df, validate_df = split_data(df)"
   ]
  },
  {
   "cell_type": "code",
   "execution_count": 25,
   "metadata": {
    "scrolled": true
   },
   "outputs": [
    {
     "data": {
      "text/html": [
       "<div>\n",
       "<style scoped>\n",
       "    .dataframe tbody tr th:only-of-type {\n",
       "        vertical-align: middle;\n",
       "    }\n",
       "\n",
       "    .dataframe tbody tr th {\n",
       "        vertical-align: top;\n",
       "    }\n",
       "\n",
       "    .dataframe thead tr th {\n",
       "        text-align: left;\n",
       "    }\n",
       "\n",
       "    .dataframe thead tr:last-of-type th {\n",
       "        text-align: right;\n",
       "    }\n",
       "</style>\n",
       "<table border=\"1\" class=\"dataframe\">\n",
       "  <thead>\n",
       "    <tr>\n",
       "      <th></th>\n",
       "      <th></th>\n",
       "      <th>image</th>\n",
       "    </tr>\n",
       "    <tr>\n",
       "      <th></th>\n",
       "      <th></th>\n",
       "      <th>count</th>\n",
       "    </tr>\n",
       "    <tr>\n",
       "      <th>cancer_type</th>\n",
       "      <th>class_weight</th>\n",
       "      <th></th>\n",
       "    </tr>\n",
       "  </thead>\n",
       "  <tbody>\n",
       "    <tr>\n",
       "      <td>AKIEC</td>\n",
       "      <td>1.377953</td>\n",
       "      <td>254</td>\n",
       "    </tr>\n",
       "    <tr>\n",
       "      <td>BCC</td>\n",
       "      <td>1.000000</td>\n",
       "      <td>350</td>\n",
       "    </tr>\n",
       "    <tr>\n",
       "      <td>BKL</td>\n",
       "      <td>1.000000</td>\n",
       "      <td>350</td>\n",
       "    </tr>\n",
       "    <tr>\n",
       "      <td>DF</td>\n",
       "      <td>3.846154</td>\n",
       "      <td>91</td>\n",
       "    </tr>\n",
       "    <tr>\n",
       "      <td>MEL</td>\n",
       "      <td>1.000000</td>\n",
       "      <td>350</td>\n",
       "    </tr>\n",
       "    <tr>\n",
       "      <td>NV</td>\n",
       "      <td>1.000000</td>\n",
       "      <td>350</td>\n",
       "    </tr>\n",
       "    <tr>\n",
       "      <td>VASC</td>\n",
       "      <td>2.966102</td>\n",
       "      <td>118</td>\n",
       "    </tr>\n",
       "  </tbody>\n",
       "</table>\n",
       "</div>"
      ],
      "text/plain": [
       "                         image\n",
       "                         count\n",
       "cancer_type class_weight      \n",
       "AKIEC       1.377953       254\n",
       "BCC         1.000000       350\n",
       "BKL         1.000000       350\n",
       "DF          3.846154        91\n",
       "MEL         1.000000       350\n",
       "NV          1.000000       350\n",
       "VASC        2.966102       118"
      ]
     },
     "execution_count": 25,
     "metadata": {},
     "output_type": "execute_result"
    }
   ],
   "source": [
    "def get_balanced_df(df, val_size=350, col='label'):\n",
    "    \"\"\"Function to balance dataset based on Class and add Weight.\n",
    "    Args:\n",
    "        df (DataFrame, required): Data to split\n",
    "        val_size (int, optional): Sample size for each value in class\n",
    "        col (str, optional): Column for class balance\n",
    "    Returns:\n",
    "        DataFrame: balanced DataFrame based on class and weight.\n",
    "    \"\"\"\n",
    "    balanced = []\n",
    "    for val in train_df[col].unique():\n",
    "        label_i = train_df[train_df[col] == val]\n",
    "        if len(label_i.index) >= val_size:\n",
    "            label_i = label_i.sample(val_size)\n",
    "            weight_i = 1.0\n",
    "        else:\n",
    "            weight_i = val_size/len(label_i.index)\n",
    "        label_i['class_weight'] = weight_i\n",
    "        balanced.append(label_i)\n",
    "        \n",
    "    balanced_df = pd.concat(balanced)\n",
    "    return balanced_df\n",
    "\n",
    "train_df2 = get_balanced_df(train_df, col='cancer_type')\n",
    "train_df2.groupby(['cancer_type','class_weight']).agg(['count'])"
   ]
  }
 ],
 "metadata": {
  "kernelspec": {
   "display_name": "Python 3",
   "language": "python",
   "name": "python3"
  },
  "language_info": {
   "codemirror_mode": {
    "name": "ipython",
    "version": 3
   },
   "file_extension": ".py",
   "mimetype": "text/x-python",
   "name": "python",
   "nbconvert_exporter": "python",
   "pygments_lexer": "ipython3",
   "version": "3.7.4"
  }
 },
 "nbformat": 4,
 "nbformat_minor": 4
}
