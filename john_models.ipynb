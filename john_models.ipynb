{
 "cells": [
  {
   "cell_type": "code",
   "execution_count": 8,
   "source": [
    "# import packages and read in full dataset (pca features)\n",
    "from read_data import get_all_data, split_and_stratify_data, get_balanced_df\n",
    "\n",
    "import warnings\n",
    "warnings.filterwarnings('ignore') # for looks..\n",
    "\n",
    "import matplotlib.pyplot as plt\n",
    "import pandas as pd\n",
    "\n",
    "from sklearn.metrics import accuracy_score, classification_report, plot_confusion_matrix\n",
    "\n",
    "full_dataset = get_all_data(number_of_pca_features = 100)\n",
    "full_dataset.head()"
   ],
   "outputs": [
    {
     "output_type": "stream",
     "name": "stdout",
     "text": [
      "GroundTruth.csv read. Processing/searching for image data. May take a few minutes if process_images_again == True.\n",
      "\n",
      "Existing image data read..\n"
     ]
    },
    {
     "output_type": "execute_result",
     "data": {
      "text/plain": [
       "              image cancer_type         0         1         2         3  \\\n",
       "0  ISIC_0024306.jpg          NV  2.227468 -3.264277 -1.167765  0.924474   \n",
       "1  ISIC_0024307.jpg          NV  1.068419 -1.742836 -2.110399  0.040784   \n",
       "2  ISIC_0024308.jpg          NV  0.983078 -4.920764  0.617789  1.684504   \n",
       "3  ISIC_0024309.jpg          NV  4.042187 -1.004445 -1.730627  0.354093   \n",
       "4  ISIC_0024310.jpg         MEL  0.925909 -0.801578 -0.337978  1.529686   \n",
       "\n",
       "          4         5         6         7  ...        90        91        92  \\\n",
       "0 -2.286435  1.804567  0.273134  0.418798  ... -0.099027 -0.009333 -0.051041   \n",
       "1 -1.148290  0.792414  0.011848  0.533355  ... -0.039695 -0.032529  0.015959   \n",
       "2 -0.617451 -0.853629 -0.934357  0.139916  ...  0.103498  0.018952  0.015636   \n",
       "3  0.451159 -2.407673  0.339228 -0.318631  ... -0.080027 -0.027284  0.011457   \n",
       "4 -0.320369  0.183890 -0.863793  0.924670  ...  0.221153  0.113545  0.000518   \n",
       "\n",
       "         93        94        95        96        97        98        99  \n",
       "0 -0.019836 -0.134981  0.083766  0.020061 -0.062348 -0.155223 -0.037895  \n",
       "1 -0.021628 -0.059418 -0.019899  0.006778  0.107662 -0.039652 -0.009560  \n",
       "2  0.057682  0.015973  0.040700  0.187303 -0.050769  0.090087  0.106535  \n",
       "3  0.087806 -0.070773 -0.000180 -0.049357  0.022274  0.046849 -0.057677  \n",
       "4  0.071552  0.341293 -0.269370  0.305026 -0.021116  0.292971  0.065647  \n",
       "\n",
       "[5 rows x 102 columns]"
      ],
      "text/html": [
       "<div>\n",
       "<style scoped>\n",
       "    .dataframe tbody tr th:only-of-type {\n",
       "        vertical-align: middle;\n",
       "    }\n",
       "\n",
       "    .dataframe tbody tr th {\n",
       "        vertical-align: top;\n",
       "    }\n",
       "\n",
       "    .dataframe thead th {\n",
       "        text-align: right;\n",
       "    }\n",
       "</style>\n",
       "<table border=\"1\" class=\"dataframe\">\n",
       "  <thead>\n",
       "    <tr style=\"text-align: right;\">\n",
       "      <th></th>\n",
       "      <th>image</th>\n",
       "      <th>cancer_type</th>\n",
       "      <th>0</th>\n",
       "      <th>1</th>\n",
       "      <th>2</th>\n",
       "      <th>3</th>\n",
       "      <th>4</th>\n",
       "      <th>5</th>\n",
       "      <th>6</th>\n",
       "      <th>7</th>\n",
       "      <th>...</th>\n",
       "      <th>90</th>\n",
       "      <th>91</th>\n",
       "      <th>92</th>\n",
       "      <th>93</th>\n",
       "      <th>94</th>\n",
       "      <th>95</th>\n",
       "      <th>96</th>\n",
       "      <th>97</th>\n",
       "      <th>98</th>\n",
       "      <th>99</th>\n",
       "    </tr>\n",
       "  </thead>\n",
       "  <tbody>\n",
       "    <tr>\n",
       "      <th>0</th>\n",
       "      <td>ISIC_0024306.jpg</td>\n",
       "      <td>NV</td>\n",
       "      <td>2.227468</td>\n",
       "      <td>-3.264277</td>\n",
       "      <td>-1.167765</td>\n",
       "      <td>0.924474</td>\n",
       "      <td>-2.286435</td>\n",
       "      <td>1.804567</td>\n",
       "      <td>0.273134</td>\n",
       "      <td>0.418798</td>\n",
       "      <td>...</td>\n",
       "      <td>-0.099027</td>\n",
       "      <td>-0.009333</td>\n",
       "      <td>-0.051041</td>\n",
       "      <td>-0.019836</td>\n",
       "      <td>-0.134981</td>\n",
       "      <td>0.083766</td>\n",
       "      <td>0.020061</td>\n",
       "      <td>-0.062348</td>\n",
       "      <td>-0.155223</td>\n",
       "      <td>-0.037895</td>\n",
       "    </tr>\n",
       "    <tr>\n",
       "      <th>1</th>\n",
       "      <td>ISIC_0024307.jpg</td>\n",
       "      <td>NV</td>\n",
       "      <td>1.068419</td>\n",
       "      <td>-1.742836</td>\n",
       "      <td>-2.110399</td>\n",
       "      <td>0.040784</td>\n",
       "      <td>-1.148290</td>\n",
       "      <td>0.792414</td>\n",
       "      <td>0.011848</td>\n",
       "      <td>0.533355</td>\n",
       "      <td>...</td>\n",
       "      <td>-0.039695</td>\n",
       "      <td>-0.032529</td>\n",
       "      <td>0.015959</td>\n",
       "      <td>-0.021628</td>\n",
       "      <td>-0.059418</td>\n",
       "      <td>-0.019899</td>\n",
       "      <td>0.006778</td>\n",
       "      <td>0.107662</td>\n",
       "      <td>-0.039652</td>\n",
       "      <td>-0.009560</td>\n",
       "    </tr>\n",
       "    <tr>\n",
       "      <th>2</th>\n",
       "      <td>ISIC_0024308.jpg</td>\n",
       "      <td>NV</td>\n",
       "      <td>0.983078</td>\n",
       "      <td>-4.920764</td>\n",
       "      <td>0.617789</td>\n",
       "      <td>1.684504</td>\n",
       "      <td>-0.617451</td>\n",
       "      <td>-0.853629</td>\n",
       "      <td>-0.934357</td>\n",
       "      <td>0.139916</td>\n",
       "      <td>...</td>\n",
       "      <td>0.103498</td>\n",
       "      <td>0.018952</td>\n",
       "      <td>0.015636</td>\n",
       "      <td>0.057682</td>\n",
       "      <td>0.015973</td>\n",
       "      <td>0.040700</td>\n",
       "      <td>0.187303</td>\n",
       "      <td>-0.050769</td>\n",
       "      <td>0.090087</td>\n",
       "      <td>0.106535</td>\n",
       "    </tr>\n",
       "    <tr>\n",
       "      <th>3</th>\n",
       "      <td>ISIC_0024309.jpg</td>\n",
       "      <td>NV</td>\n",
       "      <td>4.042187</td>\n",
       "      <td>-1.004445</td>\n",
       "      <td>-1.730627</td>\n",
       "      <td>0.354093</td>\n",
       "      <td>0.451159</td>\n",
       "      <td>-2.407673</td>\n",
       "      <td>0.339228</td>\n",
       "      <td>-0.318631</td>\n",
       "      <td>...</td>\n",
       "      <td>-0.080027</td>\n",
       "      <td>-0.027284</td>\n",
       "      <td>0.011457</td>\n",
       "      <td>0.087806</td>\n",
       "      <td>-0.070773</td>\n",
       "      <td>-0.000180</td>\n",
       "      <td>-0.049357</td>\n",
       "      <td>0.022274</td>\n",
       "      <td>0.046849</td>\n",
       "      <td>-0.057677</td>\n",
       "    </tr>\n",
       "    <tr>\n",
       "      <th>4</th>\n",
       "      <td>ISIC_0024310.jpg</td>\n",
       "      <td>MEL</td>\n",
       "      <td>0.925909</td>\n",
       "      <td>-0.801578</td>\n",
       "      <td>-0.337978</td>\n",
       "      <td>1.529686</td>\n",
       "      <td>-0.320369</td>\n",
       "      <td>0.183890</td>\n",
       "      <td>-0.863793</td>\n",
       "      <td>0.924670</td>\n",
       "      <td>...</td>\n",
       "      <td>0.221153</td>\n",
       "      <td>0.113545</td>\n",
       "      <td>0.000518</td>\n",
       "      <td>0.071552</td>\n",
       "      <td>0.341293</td>\n",
       "      <td>-0.269370</td>\n",
       "      <td>0.305026</td>\n",
       "      <td>-0.021116</td>\n",
       "      <td>0.292971</td>\n",
       "      <td>0.065647</td>\n",
       "    </tr>\n",
       "  </tbody>\n",
       "</table>\n",
       "<p>5 rows × 102 columns</p>\n",
       "</div>"
      ]
     },
     "metadata": {},
     "execution_count": 8
    }
   ],
   "metadata": {}
  },
  {
   "cell_type": "code",
   "execution_count": 9,
   "source": [
    "# split into train test and validation datasets\n",
    "train, test, validate = split_and_stratify_data(full_dataset, random = 2)\n",
    "\n",
    "# balance the training set?\n",
    "#train = get_balanced_df(train, val_size = 1000, col = 'cancer_type')\n",
    "\n",
    "# create X and y train, test and validate sets\n",
    "X_train = train.iloc[:,2:-1]\n",
    "X_test = test.iloc[:,2:-1]\n",
    "X_validate = validate.iloc[:,2:-1]\n",
    "\n",
    "y_train = train.iloc[:,1]\n",
    "y_test = test.iloc[:,1]\n",
    "y_validate = validate.iloc[:,1]\n",
    "\n",
    "print('Training Set Cancer Counts')\n",
    "print(y_train.value_counts())\n",
    "print('Test Set Cancer Counts')\n",
    "print(y_test.value_counts())\n",
    "print('Validation Set Cancer Counts')\n",
    "print(y_validate.value_counts())"
   ],
   "outputs": [
    {
     "output_type": "stream",
     "name": "stdout",
     "text": [
      "Training Set Cancer Counts\n",
      "NV       5364\n",
      "MEL       890\n",
      "BKL       879\n",
      "BCC       411\n",
      "AKIEC     262\n",
      "VASC      114\n",
      "DF         92\n",
      "Name: cancer_type, dtype: int64\n",
      "Test Set Cancer Counts\n",
      "NV       670\n",
      "MEL      111\n",
      "BKL      110\n",
      "BCC       51\n",
      "AKIEC     33\n",
      "VASC      14\n",
      "DF        12\n",
      "Name: cancer_type, dtype: int64\n",
      "Validation Set Cancer Counts\n",
      "NV       671\n",
      "MEL      112\n",
      "BKL      110\n",
      "BCC       52\n",
      "AKIEC     32\n",
      "VASC      14\n",
      "DF        11\n",
      "Name: cancer_type, dtype: int64\n"
     ]
    }
   ],
   "metadata": {}
  },
  {
   "cell_type": "markdown",
   "source": [
    "# Random Forest Classifier"
   ],
   "metadata": {}
  },
  {
   "cell_type": "code",
   "execution_count": 10,
   "source": [
    "from sklearn.ensemble import RandomForestClassifier\n",
    "\n",
    "forest_clf = RandomForestClassifier(n_estimators=75, random_state=42, class_weight = 'balanced')\n",
    "forest_clf.fit(X_train, y_train)\n",
    "y_pred = forest_clf.predict(X_validate)\n",
    "\n",
    "print(f'Model Accuracy is {round(accuracy_score(y_validate, y_pred),4)*100}%\\n')\n",
    "\n",
    "print('\\n Here is the classification report. \\n')\n",
    "print(classification_report(y_validate, y_pred))\n",
    "\n",
    "print('Confusion Matrix is here:\\n')\n",
    "plot_confusion_matrix(forest_clf, X_validate, y_validate)  \n",
    "plt.show()  \n"
   ],
   "outputs": [
    {
     "output_type": "stream",
     "name": "stdout",
     "text": [
      "Model Accuracy is 67.47%\n",
      "\n",
      "\n",
      " Here is the classification report. \n",
      "\n",
      "              precision    recall  f1-score   support\n",
      "\n",
      "       AKIEC       0.00      0.00      0.00        32\n",
      "         BCC       1.00      0.02      0.04        52\n",
      "         BKL       0.75      0.03      0.05       110\n",
      "          DF       0.00      0.00      0.00        11\n",
      "         MEL       0.00      0.00      0.00       112\n",
      "          NV       0.67      1.00      0.80       671\n",
      "        VASC       1.00      0.14      0.25        14\n",
      "\n",
      "    accuracy                           0.67      1002\n",
      "   macro avg       0.49      0.17      0.16      1002\n",
      "weighted avg       0.60      0.67      0.55      1002\n",
      "\n",
      "Confusion Matrix is here:\n",
      "\n"
     ]
    },
    {
     "output_type": "display_data",
     "data": {
      "text/plain": [
       "<Figure size 432x288 with 2 Axes>"
      ],
      "image/png": "[encoded data removed]"
     },
     "metadata": {
      "needs_background": "light"
     }
    }
   ],
   "metadata": {}
  },
  {
   "cell_type": "markdown",
   "source": [
    "Big problem with misclassification of many data points as the most popular 'NV' cancer type.. Tried playing around with balancing the train set through function and through 'class_weight' parameter in random forest classifier, but couldn't improve performance consistently."
   ],
   "metadata": {}
  },
  {
   "cell_type": "markdown",
   "source": [
    "#  Gaussian Na¨ıve Bayes"
   ],
   "metadata": {}
  },
  {
   "cell_type": "code",
   "execution_count": 11,
   "source": [
    "from sklearn.naive_bayes import GaussianNB\n",
    "\n",
    "gaussian_clf = GaussianNB()\n",
    "gaussian_clf.fit(X_train, y_train)\n",
    "y_pred = gaussian_clf.predict(X_validate)\n",
    "\n",
    "print(f'Model Accuracy is {round(accuracy_score(y_validate, y_pred),4)*100}%\\n')\n",
    "\n",
    "print('\\n Here is the classification report. \\n')\n",
    "print(classification_report(y_validate, y_pred))\n",
    "\n",
    "print('Confusion Matrix is here:\\n')\n",
    "plot_confusion_matrix(gaussian_clf, X_validate, y_validate)  \n",
    "plt.show()  "
   ],
   "outputs": [
    {
     "output_type": "stream",
     "name": "stdout",
     "text": [
      "Model Accuracy is 63.27%\n",
      "\n",
      "\n",
      " Here is the classification report. \n",
      "\n",
      "              precision    recall  f1-score   support\n",
      "\n",
      "       AKIEC       0.40      0.19      0.26        32\n",
      "         BCC       0.35      0.21      0.27        52\n",
      "         BKL       0.21      0.12      0.15       110\n",
      "          DF       0.08      0.09      0.09        11\n",
      "         MEL       0.28      0.50      0.36       112\n",
      "          NV       0.80      0.81      0.80       671\n",
      "        VASC       0.50      0.36      0.42        14\n",
      "\n",
      "    accuracy                           0.63      1002\n",
      "   macro avg       0.38      0.32      0.33      1002\n",
      "weighted avg       0.63      0.63      0.62      1002\n",
      "\n",
      "Confusion Matrix is here:\n",
      "\n"
     ]
    },
    {
     "output_type": "display_data",
     "data": {
      "text/plain": [
       "<Figure size 432x288 with 2 Axes>"
      ],
      "image/png": "[encoded data removed]"
     },
     "metadata": {
      "needs_background": "light"
     }
    }
   ],
   "metadata": {}
  },
  {
   "cell_type": "markdown",
   "source": [
    "Model was trained incredibly fast and results seem decent compared with random forest.."
   ],
   "metadata": {}
  },
  {
   "cell_type": "markdown",
   "source": [
    "# Logistic Regression"
   ],
   "metadata": {}
  },
  {
   "cell_type": "code",
   "execution_count": 12,
   "source": [
    "from sklearn.linear_model import LogisticRegression\n",
    "\n",
    "logreg_clf = LogisticRegression(random_state=42)\n",
    "logreg_clf.fit(X_train, y_train)\n",
    "y_pred = logreg_clf.predict(X_validate)\n",
    "\n",
    "print(f'Model Accuracy is {round(accuracy_score(y_validate, y_pred),4)*100}%\\n')\n",
    "\n",
    "print('\\n Here is the classification report. \\n')\n",
    "print(classification_report(y_validate, y_pred))\n",
    "\n",
    "print('Confusion Matrix is here:\\n')\n",
    "plot_confusion_matrix(logreg_clf, X_validate, y_validate)  \n",
    "plt.show()  "
   ],
   "outputs": [
    {
     "output_type": "stream",
     "name": "stdout",
     "text": [
      "Model Accuracy is 70.56%\n",
      "\n",
      "\n",
      " Here is the classification report. \n",
      "\n",
      "              precision    recall  f1-score   support\n",
      "\n",
      "       AKIEC       0.50      0.25      0.33        32\n",
      "         BCC       0.57      0.52      0.55        52\n",
      "         BKL       0.44      0.28      0.34       110\n",
      "          DF       0.00      0.00      0.00        11\n",
      "         MEL       0.39      0.12      0.19       112\n",
      "          NV       0.76      0.93      0.83       671\n",
      "        VASC       0.44      0.29      0.35        14\n",
      "\n",
      "    accuracy                           0.71      1002\n",
      "   macro avg       0.44      0.34      0.37      1002\n",
      "weighted avg       0.65      0.71      0.66      1002\n",
      "\n",
      "Confusion Matrix is here:\n",
      "\n"
     ]
    },
    {
     "output_type": "display_data",
     "data": {
      "text/plain": [
       "<Figure size 432x288 with 2 Axes>"
      ],
      "image/png": "[encoded data removed]"
     },
     "metadata": {
      "needs_background": "light"
     }
    }
   ],
   "metadata": {}
  },
  {
   "cell_type": "markdown",
   "source": [
    "Again not bad - still pretty fast as well."
   ],
   "metadata": {}
  },
  {
   "cell_type": "markdown",
   "source": [
    "# k-Nearest Neighbors"
   ],
   "metadata": {}
  },
  {
   "cell_type": "code",
   "execution_count": 13,
   "source": [
    "from sklearn.neighbors import KNeighborsClassifier\n",
    "\n",
    "knn_clf = KNeighborsClassifier()\n",
    "knn_clf.fit(X_train, y_train)\n",
    "y_pred = knn_clf.predict(X_validate)\n",
    "\n",
    "print(f'Model Accuracy is {round(accuracy_score(y_validate, y_pred),4)*100}%\\n')\n",
    "\n",
    "print('\\n Here is the classification report. \\n')\n",
    "print(classification_report(y_validate, y_pred))\n",
    "\n",
    "print('Confusion Matrix is here:\\n')\n",
    "plot_confusion_matrix(knn_clf, X_validate, y_validate)  \n",
    "plt.show()  "
   ],
   "outputs": [
    {
     "output_type": "stream",
     "name": "stdout",
     "text": [
      "Model Accuracy is 71.16%\n",
      "\n",
      "\n",
      " Here is the classification report. \n",
      "\n",
      "              precision    recall  f1-score   support\n",
      "\n",
      "       AKIEC       0.31      0.25      0.28        32\n",
      "         BCC       0.37      0.37      0.37        52\n",
      "         BKL       0.43      0.41      0.42       110\n",
      "          DF       0.00      0.00      0.00        11\n",
      "         MEL       0.40      0.19      0.26       112\n",
      "          NV       0.81      0.92      0.86       671\n",
      "        VASC       0.00      0.00      0.00        14\n",
      "\n",
      "    accuracy                           0.71      1002\n",
      "   macro avg       0.33      0.31      0.31      1002\n",
      "weighted avg       0.66      0.71      0.68      1002\n",
      "\n",
      "Confusion Matrix is here:\n",
      "\n"
     ]
    },
    {
     "output_type": "display_data",
     "data": {
      "text/plain": [
       "<Figure size 432x288 with 2 Axes>"
      ],
      "image/png": "[encoded data removed]"
     },
     "metadata": {
      "needs_background": "light"
     }
    }
   ],
   "metadata": {}
  },
  {
   "cell_type": "markdown",
   "source": [
    "Again not bad - still pretty fast as well."
   ],
   "metadata": {}
  },
  {
   "cell_type": "markdown",
   "source": [
    "# Kernel Support Vector Machines"
   ],
   "metadata": {}
  },
  {
   "cell_type": "code",
   "execution_count": 14,
   "source": [
    "from sklearn.svm import SVC\n",
    "\n",
    "svm_clf = SVC(kernel='rbf', random_state=42)\n",
    "svm_clf.fit(X_train, y_train)\n",
    "y_pred = svm_clf.predict(X_validate)\n",
    "\n",
    "print(f'Model Accuracy is {round(accuracy_score(y_validate, y_pred),4)*100}%\\n')\n",
    "\n",
    "print('\\n Here is the classification report. \\n')\n",
    "print(classification_report(y_validate, y_pred))\n",
    "\n",
    "print('Confusion Matrix is here:\\n')\n",
    "plot_confusion_matrix(svm_clf, X_validate, y_validate)  \n",
    "plt.show()  \n"
   ],
   "outputs": [
    {
     "output_type": "stream",
     "name": "stdout",
     "text": [
      "Model Accuracy is 72.06%\n",
      "\n",
      "\n",
      " Here is the classification report. \n",
      "\n",
      "              precision    recall  f1-score   support\n",
      "\n",
      "       AKIEC       0.18      0.12      0.15        32\n",
      "         BCC       0.46      0.33      0.38        52\n",
      "         BKL       0.51      0.32      0.39       110\n",
      "          DF       0.00      0.00      0.00        11\n",
      "         MEL       0.61      0.15      0.24       112\n",
      "          NV       0.77      0.97      0.86       671\n",
      "        VASC       0.00      0.00      0.00        14\n",
      "\n",
      "    accuracy                           0.72      1002\n",
      "   macro avg       0.36      0.27      0.29      1002\n",
      "weighted avg       0.67      0.72      0.67      1002\n",
      "\n",
      "Confusion Matrix is here:\n",
      "\n"
     ]
    },
    {
     "output_type": "display_data",
     "data": {
      "text/plain": [
       "<Figure size 432x288 with 2 Axes>"
      ],
      "image/png": "[encoded data removed]"
     },
     "metadata": {
      "needs_background": "light"
     }
    }
   ],
   "metadata": {}
  },
  {
   "cell_type": "markdown",
   "source": [
    "Again - not bad.."
   ],
   "metadata": {}
  }
 ],
 "metadata": {
  "orig_nbformat": 4,
  "language_info": {
   "name": "python",
   "version": "3.8.10",
   "mimetype": "text/x-python",
   "codemirror_mode": {
    "name": "ipython",
    "version": 3
   },
   "pygments_lexer": "ipython3",
   "nbconvert_exporter": "python",
   "file_extension": ".py"
  },
  "kernelspec": {
   "name": "python3",
   "display_name": "Python 3.8.10 64-bit ('mlp': conda)"
  },
  "interpreter": {
   "hash": "248747a7f5be4cbb1891230e0ac8700d62e01b5b6644fc50cc483b26da77c2e7"
  }
 },
 "nbformat": 4,
 "nbformat_minor": 2
}